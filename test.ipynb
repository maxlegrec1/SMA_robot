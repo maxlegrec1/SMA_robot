{
 "cells": [
  {
   "cell_type": "code",
   "execution_count": 1,
   "id": "8b219a56",
   "metadata": {},
   "outputs": [],
   "source": [
    "a = {}"
   ]
  },
  {
   "cell_type": "code",
   "execution_count": 2,
   "id": "38035849",
   "metadata": {},
   "outputs": [],
   "source": [
    "a[33] = 3"
   ]
  },
  {
   "cell_type": "code",
   "execution_count": 3,
   "id": "c904096a",
   "metadata": {},
   "outputs": [
    {
     "data": {
      "text/plain": [
       "{33: 3}"
      ]
     },
     "execution_count": 3,
     "metadata": {},
     "output_type": "execute_result"
    }
   ],
   "source": [
    "a"
   ]
  },
  {
   "cell_type": "code",
   "execution_count": 4,
   "id": "f9004ad4",
   "metadata": {},
   "outputs": [
    {
     "data": {
      "text/plain": [
       "True"
      ]
     },
     "execution_count": 4,
     "metadata": {},
     "output_type": "execute_result"
    }
   ],
   "source": [
    "33 in a"
   ]
  },
  {
   "cell_type": "code",
   "execution_count": 5,
   "id": "4c12f9b1",
   "metadata": {},
   "outputs": [
    {
     "data": {
      "text/plain": [
       "False"
      ]
     },
     "execution_count": 5,
     "metadata": {},
     "output_type": "execute_result"
    }
   ],
   "source": [
    "3 in a"
   ]
  },
  {
   "cell_type": "code",
   "execution_count": 6,
   "id": "f52aa9e8",
   "metadata": {},
   "outputs": [],
   "source": [
    "import numpy as np\n",
    "\n",
    "def merge_maps(map1, ref1, map2, ref2, fill_value=0):\n",
    "    h1, w1 = map1.shape\n",
    "    h2, w2 = map2.shape\n",
    "\n",
    "    # Offset of map2 relative to map1\n",
    "    dy = ref1[0] - ref2[0]\n",
    "    dx = ref1[1] - ref2[1]\n",
    "\n",
    "    # Compute the top-left and bottom-right corners of the final map\n",
    "    top = min(0, dy)\n",
    "    left = min(0, dx)\n",
    "    bottom = max(h1, dy + h2)\n",
    "    right = max(w1, dx + w2)\n",
    "\n",
    "    H = bottom - top\n",
    "    W = right - left\n",
    "\n",
    "    combined_map = np.full((H, W), fill_value, dtype=map1.dtype)\n",
    "\n",
    "    # Paste map1\n",
    "    y1_offset = -top\n",
    "    x1_offset = -left\n",
    "    combined_map[y1_offset:y1_offset + h1, x1_offset:x1_offset + w1] = map1\n",
    "\n",
    "    # Paste map2\n",
    "    y2_offset = y1_offset + dy\n",
    "    x2_offset = x1_offset + dx\n",
    "    combined_map[y2_offset:y2_offset + h2, x2_offset:x2_offset + w2] = map2\n",
    "\n",
    "    return combined_map\n"
   ]
  },
  {
   "cell_type": "code",
   "execution_count": 14,
   "id": "cecaade5",
   "metadata": {},
   "outputs": [],
   "source": [
    "map1 = np.array([\n",
    "    [0,0,1,1,1,0],\n",
    "    [0,0,1,1,1,0],\n",
    "    [0,0,1,1,10,0],\n",
    "    [0,0,1,1,1,0],\n",
    "])\n",
    "\n",
    "map2 = np.array([\n",
    "    [0,0,1,1,1,0],\n",
    "    [0,0,1,20,1,0],\n",
    "    [0,0,1,1,1,0],\n",
    "    [0,0,1,1,1,0],\n",
    "]) + 3"
   ]
  },
  {
   "cell_type": "code",
   "execution_count": 15,
   "id": "9fdb3bc5",
   "metadata": {},
   "outputs": [
    {
     "data": {
      "text/plain": [
       "array([[ 0,  0,  1,  1,  1,  0],\n",
       "       [ 0,  0,  1,  1,  1,  0],\n",
       "       [ 0,  0,  1,  1, 10,  0],\n",
       "       [ 0,  0,  1,  1,  1,  0]])"
      ]
     },
     "execution_count": 15,
     "metadata": {},
     "output_type": "execute_result"
    }
   ],
   "source": [
    "map1"
   ]
  },
  {
   "cell_type": "code",
   "execution_count": 16,
   "id": "0adb1ae6",
   "metadata": {},
   "outputs": [
    {
     "data": {
      "text/plain": [
       "array([[ 3,  3,  4,  4,  4,  3],\n",
       "       [ 3,  3,  4, 23,  4,  3],\n",
       "       [ 3,  3,  4,  4,  4,  3],\n",
       "       [ 3,  3,  4,  4,  4,  3]])"
      ]
     },
     "execution_count": 16,
     "metadata": {},
     "output_type": "execute_result"
    }
   ],
   "source": [
    "map2"
   ]
  },
  {
   "cell_type": "code",
   "execution_count": 20,
   "id": "60cfb190",
   "metadata": {},
   "outputs": [],
   "source": [
    "ref1 = coords_of_1_in_map_1 = (2,4)\n",
    "ref2 = coords_of_1_in_map_2 = (0,3)"
   ]
  },
  {
   "cell_type": "code",
   "execution_count": 23,
   "id": "f3561f3a",
   "metadata": {},
   "outputs": [],
   "source": [
    "res = merge_maps(map1, ref1, np.ones_like(map2)*7, ref2, fill_value=0)"
   ]
  },
  {
   "cell_type": "code",
   "execution_count": 24,
   "id": "03927f68",
   "metadata": {},
   "outputs": [
    {
     "data": {
      "text/plain": [
       "array([[0, 0, 1, 1, 1, 0, 0],\n",
       "       [0, 0, 1, 1, 1, 0, 0],\n",
       "       [0, 7, 7, 7, 7, 7, 7],\n",
       "       [0, 7, 7, 7, 7, 7, 7],\n",
       "       [0, 7, 7, 7, 7, 7, 7],\n",
       "       [0, 7, 7, 7, 7, 7, 7]])"
      ]
     },
     "execution_count": 24,
     "metadata": {},
     "output_type": "execute_result"
    }
   ],
   "source": [
    "res"
   ]
  },
  {
   "cell_type": "code",
   "execution_count": null,
   "id": "ffe369c0",
   "metadata": {},
   "outputs": [],
   "source": []
  }
 ],
 "metadata": {
  "kernelspec": {
   "display_name": "base",
   "language": "python",
   "name": "python3"
  },
  "language_info": {
   "codemirror_mode": {
    "name": "ipython",
    "version": 3
   },
   "file_extension": ".py",
   "mimetype": "text/x-python",
   "name": "python",
   "nbconvert_exporter": "python",
   "pygments_lexer": "ipython3",
   "version": "3.12.9"
  }
 },
 "nbformat": 4,
 "nbformat_minor": 5
}
